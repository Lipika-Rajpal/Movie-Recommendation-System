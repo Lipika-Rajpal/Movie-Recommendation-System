{
 "cells": [
  {
   "cell_type": "code",
   "execution_count": 33,
   "metadata": {},
   "outputs": [],
   "source": [
    "import numpy as np\n",
    "import pandas as pd\n",
    "import os \n",
    "import shutil\n",
    "import matplotlib.pyplot as plt\n",
    "from scipy.sparse import csr_matrix\n",
    "from sklearn.neighbors import NearestNeighbors"
   ]
  },
  {
   "cell_type": "code",
   "execution_count": 34,
   "metadata": {},
   "outputs": [
    {
     "name": "stdout",
     "output_type": "stream",
     "text": [
      "Shape of this dataset : (3883, 3)\n"
     ]
    },
    {
     "data": {
      "text/html": [
       "<div>\n",
       "<style scoped>\n",
       "    .dataframe tbody tr th:only-of-type {\n",
       "        vertical-align: middle;\n",
       "    }\n",
       "\n",
       "    .dataframe tbody tr th {\n",
       "        vertical-align: top;\n",
       "    }\n",
       "\n",
       "    .dataframe thead th {\n",
       "        text-align: right;\n",
       "    }\n",
       "</style>\n",
       "<table border=\"1\" class=\"dataframe\">\n",
       "  <thead>\n",
       "    <tr style=\"text-align: right;\">\n",
       "      <th></th>\n",
       "      <th>movieId</th>\n",
       "      <th>title</th>\n",
       "      <th>genres</th>\n",
       "    </tr>\n",
       "  </thead>\n",
       "  <tbody>\n",
       "    <tr>\n",
       "      <th>0</th>\n",
       "      <td>1</td>\n",
       "      <td>Toy Story (1995)</td>\n",
       "      <td>Animation|Children's|Comedy</td>\n",
       "    </tr>\n",
       "    <tr>\n",
       "      <th>1</th>\n",
       "      <td>2</td>\n",
       "      <td>Jumanji (1995)</td>\n",
       "      <td>Adventure|Children's|Fantasy</td>\n",
       "    </tr>\n",
       "    <tr>\n",
       "      <th>2</th>\n",
       "      <td>3</td>\n",
       "      <td>Grumpier Old Men (1995)</td>\n",
       "      <td>Comedy|Romance</td>\n",
       "    </tr>\n",
       "    <tr>\n",
       "      <th>3</th>\n",
       "      <td>4</td>\n",
       "      <td>Waiting to Exhale (1995)</td>\n",
       "      <td>Comedy|Drama</td>\n",
       "    </tr>\n",
       "    <tr>\n",
       "      <th>4</th>\n",
       "      <td>5</td>\n",
       "      <td>Father of the Bride Part II (1995)</td>\n",
       "      <td>Comedy</td>\n",
       "    </tr>\n",
       "  </tbody>\n",
       "</table>\n",
       "</div>"
      ],
      "text/plain": [
       "   movieId                               title                        genres\n",
       "0        1                    Toy Story (1995)   Animation|Children's|Comedy\n",
       "1        2                      Jumanji (1995)  Adventure|Children's|Fantasy\n",
       "2        3             Grumpier Old Men (1995)                Comedy|Romance\n",
       "3        4            Waiting to Exhale (1995)                  Comedy|Drama\n",
       "4        5  Father of the Bride Part II (1995)                        Comedy"
      ]
     },
     "execution_count": 34,
     "metadata": {},
     "output_type": "execute_result"
    }
   ],
   "source": [
    "movies = pd.read_csv('.\\our_dataset\\movies.csv',sep=';',encoding='latin-1').drop('Unnamed: 3',axis=1)\n",
    "print('Shape of this dataset :',movies.shape)\n",
    "movies.head()"
   ]
  },
  {
   "cell_type": "code",
   "execution_count": 35,
   "metadata": {},
   "outputs": [
    {
     "name": "stdout",
     "output_type": "stream",
     "text": [
      "Shape of this dataset : (1000209, 3)\n"
     ]
    },
    {
     "data": {
      "text/html": [
       "<div>\n",
       "<style scoped>\n",
       "    .dataframe tbody tr th:only-of-type {\n",
       "        vertical-align: middle;\n",
       "    }\n",
       "\n",
       "    .dataframe tbody tr th {\n",
       "        vertical-align: top;\n",
       "    }\n",
       "\n",
       "    .dataframe thead th {\n",
       "        text-align: right;\n",
       "    }\n",
       "</style>\n",
       "<table border=\"1\" class=\"dataframe\">\n",
       "  <thead>\n",
       "    <tr style=\"text-align: right;\">\n",
       "      <th></th>\n",
       "      <th>userId</th>\n",
       "      <th>movieId</th>\n",
       "      <th>rating</th>\n",
       "    </tr>\n",
       "  </thead>\n",
       "  <tbody>\n",
       "    <tr>\n",
       "      <th>0</th>\n",
       "      <td>1</td>\n",
       "      <td>1193</td>\n",
       "      <td>5</td>\n",
       "    </tr>\n",
       "    <tr>\n",
       "      <th>1</th>\n",
       "      <td>1</td>\n",
       "      <td>661</td>\n",
       "      <td>3</td>\n",
       "    </tr>\n",
       "    <tr>\n",
       "      <th>2</th>\n",
       "      <td>1</td>\n",
       "      <td>914</td>\n",
       "      <td>3</td>\n",
       "    </tr>\n",
       "    <tr>\n",
       "      <th>3</th>\n",
       "      <td>1</td>\n",
       "      <td>3408</td>\n",
       "      <td>4</td>\n",
       "    </tr>\n",
       "    <tr>\n",
       "      <th>4</th>\n",
       "      <td>1</td>\n",
       "      <td>2355</td>\n",
       "      <td>5</td>\n",
       "    </tr>\n",
       "  </tbody>\n",
       "</table>\n",
       "</div>"
      ],
      "text/plain": [
       "   userId  movieId  rating\n",
       "0       1     1193       5\n",
       "1       1      661       3\n",
       "2       1      914       3\n",
       "3       1     3408       4\n",
       "4       1     2355       5"
      ]
     },
     "execution_count": 35,
     "metadata": {},
     "output_type": "execute_result"
    }
   ],
   "source": [
    "ratings = pd.read_csv('.\\our_dataset\\\\ratings.csv',sep=';') \n",
    "ratings = ratings.drop('timestamp',axis=1)\n",
    "print('Shape of this dataset :',ratings.shape)\n",
    "ratings.head()"
   ]
  },
  {
   "cell_type": "code",
   "execution_count": 36,
   "metadata": {},
   "outputs": [
    {
     "name": "stdout",
     "output_type": "stream",
     "text": [
      "Shape of this dataset : (6040, 3)\n"
     ]
    },
    {
     "data": {
      "text/html": [
       "<div>\n",
       "<style scoped>\n",
       "    .dataframe tbody tr th:only-of-type {\n",
       "        vertical-align: middle;\n",
       "    }\n",
       "\n",
       "    .dataframe tbody tr th {\n",
       "        vertical-align: top;\n",
       "    }\n",
       "\n",
       "    .dataframe thead th {\n",
       "        text-align: right;\n",
       "    }\n",
       "</style>\n",
       "<table border=\"1\" class=\"dataframe\">\n",
       "  <thead>\n",
       "    <tr style=\"text-align: right;\">\n",
       "      <th></th>\n",
       "      <th>userId</th>\n",
       "      <th>gender</th>\n",
       "      <th>age</th>\n",
       "    </tr>\n",
       "  </thead>\n",
       "  <tbody>\n",
       "    <tr>\n",
       "      <th>0</th>\n",
       "      <td>1</td>\n",
       "      <td>F</td>\n",
       "      <td>1</td>\n",
       "    </tr>\n",
       "    <tr>\n",
       "      <th>1</th>\n",
       "      <td>2</td>\n",
       "      <td>M</td>\n",
       "      <td>56</td>\n",
       "    </tr>\n",
       "    <tr>\n",
       "      <th>2</th>\n",
       "      <td>3</td>\n",
       "      <td>M</td>\n",
       "      <td>25</td>\n",
       "    </tr>\n",
       "    <tr>\n",
       "      <th>3</th>\n",
       "      <td>4</td>\n",
       "      <td>M</td>\n",
       "      <td>45</td>\n",
       "    </tr>\n",
       "    <tr>\n",
       "      <th>4</th>\n",
       "      <td>5</td>\n",
       "      <td>M</td>\n",
       "      <td>25</td>\n",
       "    </tr>\n",
       "  </tbody>\n",
       "</table>\n",
       "</div>"
      ],
      "text/plain": [
       "   userId gender  age\n",
       "0       1      F    1\n",
       "1       2      M   56\n",
       "2       3      M   25\n",
       "3       4      M   45\n",
       "4       5      M   25"
      ]
     },
     "execution_count": 36,
     "metadata": {},
     "output_type": "execute_result"
    }
   ],
   "source": [
    "users = pd.read_csv('.\\our_dataset\\\\users.csv',sep=';')\n",
    "users = users.drop('zip-code',axis=1)\n",
    "users = users.drop('occupation',axis=1)\n",
    "print('Shape of this dataset :',users.shape)\n",
    "users.head()"
   ]
  },
  {
   "cell_type": "code",
   "execution_count": 37,
   "metadata": {},
   "outputs": [
    {
     "name": "stdout",
     "output_type": "stream",
     "text": [
      "(6040, 3)\n",
      "(6041, 3)\n",
      "      userId gender  age\n",
      "6036    6037      F   45\n",
      "6037    6038      F   56\n",
      "6038    6039      F   45\n",
      "6039    6040      M   25\n",
      "6040    6041      F   20\n"
     ]
    }
   ],
   "source": [
    "check_new = input('Are you a new user? (y/n) : ') \n",
    "if check_new == 'y' or 'Y': \n",
    "    print(users.shape)\n",
    "    name = input('Enter your name : ') \n",
    "    age = input('Enter your age : ')\n",
    "    gender = input('Enter your gender(M/F) : ')  \n",
    " \n",
    "    user = pd.DataFrame({'userId' : users.shape[0] +1, 'gender' : gender, 'age' : int(age)}, index = [0]) \n",
    "    users = pd.concat([users, user], ignore_index=True)   \n",
    "    print(users.shape) \n",
    "    print(users.tail())\n",
    "    "
   ]
  },
  {
   "cell_type": "code",
   "execution_count": 38,
   "metadata": {},
   "outputs": [
    {
     "name": "stdout",
     "output_type": "stream",
     "text": [
      "(6041, 3)\n",
      "      userId gender  age\n",
      "0          1      F    1\n",
      "1          2      M   56\n",
      "2          3      M   25\n",
      "3          4      M   45\n",
      "4          5      M   25\n",
      "...      ...    ...  ...\n",
      "6036    6037      F   45\n",
      "6037    6038      F   56\n",
      "6038    6039      F   45\n",
      "6039    6040      M   25\n",
      "6040    6041      F   20\n",
      "\n",
      "[6041 rows x 3 columns]\n"
     ]
    }
   ],
   "source": [
    "print(users.shape)\n",
    "print(users)"
   ]
  },
  {
   "cell_type": "code",
   "execution_count": 52,
   "metadata": {},
   "outputs": [],
   "source": [
    "class Recommender_new_user:\n",
    "    def __init__(self, movies, ratings, users):\n",
    "        # This list will stored movies that called atleast ones using recommend_on_movie method\n",
    "        self.hist = [] \n",
    "        self.ishist = False # Check if history is empty \n",
    "        self.movies = movies\n",
    "        self.ratings = ratings\n",
    "        self.users = users.copy()\n",
    "        self.nn_algo = NearestNeighbors(metric='cosine')\n",
    "        self.users[\"gender\"] = np.where(self.users[\"gender\"] == \"F\", 0, 1)\n",
    "        # self.users = self.users.drop('gender',axis=1)\n",
    "\n",
    "    def fit(self):\n",
    "        self.nn_algo.fit(self.users)\n",
    "        return self.nn_algo\n",
    "\n",
    "    def recommend_movies(self, user_id, n_recommend=10):\n",
    "        # distance, neighbors = self.nn_algo.kneighbors([self.users.loc[self.users.userId == user_id]], n_neighbors=n_recommend+1)\n",
    "        distance, neighbors = self.nn_algo.kneighbors(self.users.loc[self.users.userId == user_id], n_neighbors=n_recommend+1)\n",
    "\n",
    "        userids = [self.users.iloc[i].name for i in neighbors[0]]\n",
    "        recommends = [movieId for uid in userids for movieId in self.ratings.loc[(self.ratings.userId == uid) & (self.ratings.rating == 5)].dropna()['movieId']]\n",
    "        recommends = np.array(recommends)\n",
    "        np.random.shuffle(recommends)\n",
    "        rec_movies = [str(self.movies.loc[self.movies.movieId == movieId].title.values[0]) for movieId in recommends]\n",
    "        return rec_movies[:n_recommend]\n"
   ]
  },
  {
   "cell_type": "code",
   "execution_count": 46,
   "metadata": {},
   "outputs": [
    {
     "name": "stdout",
     "output_type": "stream",
     "text": [
      "(6041, 3)\n"
     ]
    }
   ],
   "source": [
    "print(users.shape)"
   ]
  },
  {
   "cell_type": "code",
   "execution_count": 54,
   "metadata": {},
   "outputs": [
    {
     "name": "stdout",
     "output_type": "stream",
     "text": [
      "['Star Wars', 'Lord of the Flies (1963)', 'Out of Africa (1985)', 'Hoosiers (1986)', 'Shadow of a Doubt (1943)', 'Pulp Fiction (1994)', 'Cape Fear (1962)', \"Breakfast at Tiffany's (1961)\", 'Air Force One (1997)', 'Star Wars']\n"
     ]
    }
   ],
   "source": [
    "recommender_new = Recommender_new_user(movies, ratings, users) \n",
    "recommender_new.fit() \n",
    "initial_movies = recommender_new.recommend_movies(6023, n_recommend=10)\n",
    "print(recommender_new.recommend_movies(6023, n_recommend=10)) "
   ]
  },
  {
   "cell_type": "code",
   "execution_count": null,
   "metadata": {},
   "outputs": [],
   "source": []
  }
 ],
 "metadata": {
  "kernelspec": {
   "display_name": "Python 3",
   "language": "python",
   "name": "python3"
  },
  "language_info": {
   "codemirror_mode": {
    "name": "ipython",
    "version": 3
   },
   "file_extension": ".py",
   "mimetype": "text/x-python",
   "name": "python",
   "nbconvert_exporter": "python",
   "pygments_lexer": "ipython3",
   "version": "3.11.0"
  },
  "orig_nbformat": 4
 },
 "nbformat": 4,
 "nbformat_minor": 2
}
